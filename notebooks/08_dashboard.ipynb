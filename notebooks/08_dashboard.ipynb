{
 "cells": [
  {
   "cell_type": "markdown",
   "id": "768fea8f",
   "metadata": {},
   "source": [
    "## 1 - Imports"
   ]
  },
  {
   "cell_type": "code",
   "execution_count": 1,
   "id": "2b6b7075",
   "metadata": {},
   "outputs": [],
   "source": [
    "from dotenv import load_dotenv\n",
    "import os\n",
    "\n",
    "load_dotenv()\n",
    "os.chdir(\"..\")"
   ]
  },
  {
   "cell_type": "code",
   "execution_count": 3,
   "id": "2703b236",
   "metadata": {},
   "outputs": [
    {
     "name": "stdout",
     "output_type": "stream",
     "text": [
      "Note: you may need to restart the kernel to use updated packages.\n"
     ]
    }
   ],
   "source": [
    "%pip install tensorflow --quiet"
   ]
  },
  {
   "cell_type": "code",
   "execution_count": 4,
   "id": "a3d7b524",
   "metadata": {},
   "outputs": [],
   "source": [
    "import pandas as pd\n",
    "import numpy as np\n",
    "import matplotlib.pyplot as plt\n",
    "import ipywidgets as widgets\n",
    "from IPython.display import display\n",
    "from pathlib import Path\n",
    "\n",
    "from src.utils.best_model_utils import load_best_table, load_best_model\n",
    "from src.models.dl_utils import create_sequences, scale_data\n",
    "from src.models.evaluation import evaluate_regression\n"
   ]
  },
  {
   "cell_type": "markdown",
   "id": "40f67704",
   "metadata": {},
   "source": [
    "## 2 - Configuration"
   ]
  },
  {
   "cell_type": "code",
   "execution_count": 6,
   "id": "a6cb6dd1",
   "metadata": {},
   "outputs": [],
   "source": [
    "import yaml\n",
    "\n",
    "def load_config(config_path: str = \"config.yaml\") -> dict:\n",
    "    \"\"\"\n",
    "    Lit le fichier YAML de configuration et renvoie un dict.\n",
    "    \"\"\"\n",
    "    with open(config_path, \"r\") as f:\n",
    "        cfg = yaml.safe_load(f)\n",
    "    return cfg\n",
    "\n",
    "cfg = load_config(\"config.yaml\")\n",
    "proc_dir    = Path(cfg[\"paths\"][\"data\"][\"processed\"])\n",
    "reports_dir = Path(\"outputs/reports\")\n",
    "\n",
    "# Charger la table des meilleurs modèles\n",
    "best_df = load_best_table()\n",
    "zones   = best_df['zone'].tolist()\n",
    "horizons = [\"daily\", \"hourly\"]\n"
   ]
  },
  {
   "cell_type": "markdown",
   "id": "ef75cfbd",
   "metadata": {},
   "source": [
    "## 3 - Widgets de sélection"
   ]
  },
  {
   "cell_type": "code",
   "execution_count": 7,
   "id": "7bc50f5f",
   "metadata": {},
   "outputs": [
    {
     "data": {
      "application/vnd.jupyter.widget-view+json": {
       "model_id": "9540ed77377b43968d31585080daa394",
       "version_major": 2,
       "version_minor": 0
      },
      "text/plain": [
       "HBox(children=(Dropdown(description='Zone', options=('Peninsule_Iberique', 'Baleares', 'Canarias', 'Gran_canar…"
      ]
     },
     "metadata": {},
     "output_type": "display_data"
    }
   ],
   "source": [
    "zone_widget    = widgets.Dropdown(options=zones, description=\"Zone\")\n",
    "horizon_widget = widgets.Dropdown(options=horizons, description=\"Horizon\")\n",
    "ui = widgets.HBox([zone_widget, horizon_widget])\n",
    "display(ui)\n"
   ]
  },
  {
   "cell_type": "markdown",
   "id": "85f287e9",
   "metadata": {},
   "source": [
    "## 4 - Fonction de mise à jour"
   ]
  },
  {
   "cell_type": "code",
   "execution_count": 8,
   "id": "f4c1359d",
   "metadata": {},
   "outputs": [
    {
     "data": {
      "application/vnd.jupyter.widget-view+json": {
       "model_id": "55e2669ded6a4a799968c4450019497c",
       "version_major": 2,
       "version_minor": 0
      },
      "text/plain": [
       "interactive(children=(Dropdown(description='Zone', index=1, options=('Peninsule_Iberique', 'Baleares', 'Canari…"
      ]
     },
     "metadata": {},
     "output_type": "display_data"
    },
    {
     "data": {
      "application/vnd.jupyter.widget-view+json": {
       "model_id": "cf3a1de12dba446e8f84c59202cb8406",
       "version_major": 2,
       "version_minor": 0
      },
      "text/plain": [
       "interactive(children=(Dropdown(description='Horizon', options=('daily', 'hourly'), value='daily'), Output()), …"
      ]
     },
     "metadata": {},
     "output_type": "display_data"
    },
    {
     "data": {
      "application/vnd.jupyter.widget-view+json": {
       "model_id": "1a28c7eac28d4203a5ef04f28cdf3720",
       "version_major": 2,
       "version_minor": 0
      },
      "text/plain": [
       "Output()"
      ]
     },
     "metadata": {},
     "output_type": "display_data"
    }
   ],
   "source": [
    "out = widgets.Output()\n",
    "\n",
    "def update_dashboard(change):\n",
    "    out.clear_output()\n",
    "    zone    = zone_widget.value\n",
    "    horizon = horizon_widget.value\n",
    "\n",
    "    # 1. Chargement des données\n",
    "    df = pd.read_parquet(proc_dir / f\"{zone}_processed_{horizon}.parquet\")\n",
    "    split = int(len(df)*0.8)\n",
    "    df_train, df_test = df.iloc[:split], df.iloc[split:]\n",
    "\n",
    "    # 2. Affichage Stats\n",
    "    with out:\n",
    "        print(f\"### Statistiques pour {zone} ({horizon})\")\n",
    "        display(df[\"demand\"].describe())\n",
    "\n",
    "        # 3. Charger et afficher le meilleur modèle\n",
    "        model = load_best_model(zone, horizon)\n",
    "        print(f\"**Modèle sélectionné** : {type(model).__name__}\")\n",
    "\n",
    "        # 4. Préparation des données de test\n",
    "        if hasattr(model, \"predict\") and model.__class__.__module__.startswith(\"tensorflow\"):\n",
    "            # Deep Learning\n",
    "            LOOKBACK = 24 if horizon==\"hourly\" else 7\n",
    "            features = [c for c in df.columns if c!=\"demand\"]\n",
    "            X_seq, y_seq = create_sequences(df, \"demand\", features, LOOKBACK)\n",
    "            n_test = len(df_test)\n",
    "            X_test_seq = X_seq[-n_test:]\n",
    "            _, X_test_seq_scaled, _ = scale_data(X_seq[:-n_test], X_test_seq)\n",
    "            y_true = y_seq[-n_test:].ravel()\n",
    "            y_pred = model.predict(X_test_seq_scaled).ravel()\n",
    "            idx = df_test.index\n",
    "        else:\n",
    "            # Sklearn / ARIMA\n",
    "            X_test = df_test.drop(columns=\"demand\")\n",
    "            try:\n",
    "                y_pred = model.predict(X_test)\n",
    "            except:\n",
    "                y_pred = model.predict(n_periods=len(df_test))\n",
    "            y_true = df_test[\"demand\"].values\n",
    "            idx    = df_test.index\n",
    "\n",
    "        # 5. Plot Réel vs Prédiction\n",
    "        fig, ax = plt.subplots(figsize=(10,4))\n",
    "        ax.plot(idx, y_true, label=\"Réel\")\n",
    "        ax.plot(idx, y_pred, label=\"Prédit\", alpha=0.7)\n",
    "        ax.set_title(f\"Demande — {zone} ({horizon})\")\n",
    "        ax.legend()\n",
    "        plt.show()\n",
    "\n",
    "        # 6. KPI\n",
    "        kpi = evaluate_regression(None, None, pd.Series(y_true), pd.Series(y_pred))\n",
    "        print(\"**Performance**\")\n",
    "        print(f\"MAE:  {kpi['MAE']:.2f}\")\n",
    "        print(f\"RMSE: {kpi['RMSE']:.2f}\")\n",
    "        print(f\"MAPE: {kpi['MAPE']:.2f}%\")\n",
    "\n",
    "widgets.interact(update_dashboard, change=zone_widget)  # lien zone\n",
    "widgets.interact(update_dashboard, change=horizon_widget)  # lien horizon\n",
    "display(out)\n"
   ]
  },
  {
   "cell_type": "markdown",
   "id": "1abe3361",
   "metadata": {},
   "source": [
    "## 6 - Lancer l’application Streamlit"
   ]
  },
  {
   "cell_type": "code",
   "execution_count": null,
   "id": "70d5c5c7",
   "metadata": {},
   "outputs": [
    {
     "name": "stdout",
     "output_type": "stream",
     "text": [
      "Démarrage du dashboard Streamlit… (Ctrl+C pour arrêter)\n"
     ]
    }
   ],
   "source": [
    "import os\n",
    "print(\"Démarrage du dashboard Streamlit… (Ctrl+C pour arrêter)\")\n",
    "os.system(\"streamlit run dashboard/app.py\")\n"
   ]
  }
 ],
 "metadata": {
  "kernelspec": {
   "display_name": "base",
   "language": "python",
   "name": "python3"
  },
  "language_info": {
   "codemirror_mode": {
    "name": "ipython",
    "version": 3
   },
   "file_extension": ".py",
   "mimetype": "text/x-python",
   "name": "python",
   "nbconvert_exporter": "python",
   "pygments_lexer": "ipython3",
   "version": "3.12.7"
  }
 },
 "nbformat": 4,
 "nbformat_minor": 5
}
