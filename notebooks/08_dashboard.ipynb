{
 "cells": [
  {
   "cell_type": "markdown",
   "id": "768fea8f",
   "metadata": {},
   "source": [
    "## 1 - Imports"
   ]
  },
  {
   "cell_type": "code",
   "execution_count": 1,
   "id": "2b6b7075",
   "metadata": {},
   "outputs": [],
   "source": [
    "from dotenv import load_dotenv\n",
    "import os\n",
    "\n",
    "load_dotenv()\n",
    "os.chdir(\"..\")"
   ]
  },
  {
   "cell_type": "code",
   "execution_count": null,
   "id": "2703b236",
   "metadata": {},
   "outputs": [
    {
     "name": "stdout",
     "output_type": "stream",
     "text": [
      "Note: you may need to restart the kernel to use updated packages.\n"
     ]
    }
   ],
   "source": [
    "# %pip install tensorflow --quiet"
   ]
  },
  {
   "cell_type": "code",
   "execution_count": 3,
   "id": "a3d7b524",
   "metadata": {},
   "outputs": [],
   "source": [
    "# Cellule 1 — Imports\n",
    "import json\n",
    "import pandas as pd\n",
    "import numpy as np\n",
    "import plotly.express as px\n",
    "import plotly.graph_objects as go\n",
    "import ipywidgets as widgets\n",
    "from ipywidgets import Layout\n",
    "from IPython.display import display, clear_output\n",
    "from pathlib import Path\n",
    "\n",
    "from src.utils.best_model_utils import load_best_table, load_best_model\n",
    "from src.models.dl_utils import create_sequences, scale_data\n",
    "from src.models.evaluation import evaluate_regression\n"
   ]
  },
  {
   "cell_type": "markdown",
   "id": "40f67704",
   "metadata": {},
   "source": [
    "## 2 - Configuration"
   ]
  },
  {
   "cell_type": "code",
   "execution_count": 5,
   "id": "2b1c590c",
   "metadata": {},
   "outputs": [
    {
     "name": "stdout",
     "output_type": "stream",
     "text": [
      "FeatureCollection\n",
      "19\n"
     ]
    }
   ],
   "source": [
    "import json\n",
    "from urllib.request import urlopen\n",
    "\n",
    "# Charger GeoJSON complet (17 CCAA)\n",
    "geojson_url = \"https://raw.githubusercontent.com/codeforgermany/click_that_hood/main/public/data/spain-communities.geojson\"\n",
    "with urlopen(geojson_url) as resp:\n",
    "    geojson_all = json.load(resp)\n",
    "\n",
    "# Vérification rapide\n",
    "print(geojson_all[\"type\"])           # doit afficher \"FeatureCollection\"\n",
    "print(len(geojson_all[\"features\"]))  # doit afficher 17 (ou 19 si Ceuta/Melilla sont séparées)\n"
   ]
  },
  {
   "cell_type": "code",
   "execution_count": 7,
   "id": "a6cb6dd1",
   "metadata": {},
   "outputs": [],
   "source": [
    "import yaml\n",
    "\n",
    "def load_config(config_path: str = \"config.yaml\") -> dict:\n",
    "    \"\"\"\n",
    "    Lit le fichier YAML de configuration et renvoie un dict.\n",
    "    \"\"\"\n",
    "    with open(config_path, \"r\") as f:\n",
    "        cfg = yaml.safe_load(f)\n",
    "    return cfg\n",
    "\n",
    "cfg = load_config(\"config.yaml\")\n",
    "proc_dir    = Path(cfg[\"paths\"][\"data\"][\"processed\"])\n",
    "reports_dir = Path(\"outputs/reports\")\n",
    "\n",
    "# Charger la table des meilleurs modèles\n",
    "best_df = load_best_table()\n",
    "zones   = best_df['zone'].tolist()\n",
    "horizons = [\"daily\", \"hourly\"]\n"
   ]
  },
  {
   "cell_type": "code",
   "execution_count": 8,
   "id": "2e216a9c",
   "metadata": {},
   "outputs": [],
   "source": [
    "# Mapping GeoJSON name → clé zone\n",
    "name_to_zone = {\n",
    "    \"Península Ibérica\":      \"nacional\",\n",
    "    \"Illes Balears\":          \"Baleares\",\n",
    "    \"Islas Canarias\":         \"Canarias\",\n",
    "    \"Ceuta\":                  \"Ceuta\",\n",
    "    \"Melilla\":                \"Melilla\"\n",
    "}\n",
    "\n",
    "# Filtrer les features pour n’avoir que ces 5 zones\n",
    "features_sel = [\n",
    "    feat for feat in geojson_all[\"features\"]\n",
    "    if feat[\"properties\"][\"name\"] in name_to_zone\n",
    "]\n",
    "geojson_sel = {\"type\":\"FeatureCollection\", \"features\":features_sel}\n",
    "\n",
    "# Charger la table des meilleurs modèles et la liste complète des zones\n",
    "best_df = load_best_table()\n",
    "all_zones = best_df[\"zone\"].tolist()  # ex. ['nacional','Baleares',…]"
   ]
  },
  {
   "cell_type": "markdown",
   "id": "ef75cfbd",
   "metadata": {},
   "source": [
    "## 3 - Widgets de sélection"
   ]
  },
  {
   "cell_type": "code",
   "execution_count": 14,
   "id": "c3eb8815",
   "metadata": {},
   "outputs": [
    {
     "data": {
      "application/vnd.jupyter.widget-view+json": {
       "model_id": "af658a8efad842fb8b2b6c14d59724cd",
       "version_major": 2,
       "version_minor": 0
      },
      "text/plain": [
       "HBox(children=(Dropdown(description='Zone', index=11, options=('Peninsule_Iberique', 'Baleares', 'Canarias', '…"
      ]
     },
     "metadata": {},
     "output_type": "display_data"
    },
    {
     "data": {
      "application/vnd.jupyter.widget-view+json": {
       "model_id": "cd39d88647474a588fac4122928bb9fd",
       "version_major": 2,
       "version_minor": 0
      },
      "text/plain": [
       "Output()"
      ]
     },
     "metadata": {},
     "output_type": "display_data"
    }
   ],
   "source": [
    "# Cellule — Widget de sélection + bouton\n",
    "zone_widget    = widgets.Dropdown(\n",
    "    options=all_zones,\n",
    "    value=\"nacional\",      # sélection par défaut\n",
    "    description=\"Zone\"\n",
    ")\n",
    "horizon_widget = widgets.Dropdown(\n",
    "    options=[\"hourly\",\"daily\"],\n",
    "    value=\"hourly\",\n",
    "    description=\"Horizon\"\n",
    ")\n",
    "btn = widgets.Button(description=\"Voir les prévisions\", button_style=\"success\")\n",
    "\n",
    "ui = widgets.HBox([zone_widget, horizon_widget, btn])\n",
    "display(ui)\n",
    "\n",
    "out = widgets.Output()\n",
    "display(out)\n"
   ]
  },
  {
   "cell_type": "code",
   "execution_count": 15,
   "id": "6de82725",
   "metadata": {},
   "outputs": [],
   "source": [
    "# Cellule — Carte simplifiée\n",
    "with out:\n",
    "    fig = px.choropleth_mapbox(\n",
    "        pd.DataFrame({\n",
    "            \"region\": [feat[\"properties\"][\"name\"] for feat in features_sel],\n",
    "            \"zone\":   [name_to_zone[feat[\"properties\"][\"name\"]] for feat in features_sel]\n",
    "        }),\n",
    "        geojson=geojson_sel,\n",
    "        locations=\"region\",\n",
    "        featureidkey=\"properties.name\",\n",
    "        color=\"zone\",\n",
    "        mapbox_style=\"carto-positron\",\n",
    "        center={\"lat\":40,\"lon\":-3},\n",
    "        zoom=4,\n",
    "        opacity=0.5,\n",
    "    )\n",
    "    fig.update_layout(margin={\"r\":0,\"t\":0,\"l\":0,\"b\":0})\n",
    "    fig.show()\n"
   ]
  },
  {
   "cell_type": "code",
   "execution_count": 19,
   "id": "7fae6df4",
   "metadata": {},
   "outputs": [],
   "source": [
    "from pathlib import Path\n",
    "import pandas as pd\n",
    "import plotly.graph_objects as go\n",
    "from src.utils.best_model_utils import load_best_model\n",
    "from src.models.evaluation import evaluate_regression\n",
    "from src.models.dl_utils import create_sequences, scale_data\n",
    "\n",
    "def on_button_clicked(b):\n",
    "    with out:\n",
    "        clear_output(wait=True)\n",
    "        \n",
    "        # 1. Sélection zone/horizon\n",
    "        zone    = zone_widget.value\n",
    "        horizon = horizon_widget.value\n",
    "        \n",
    "        # 2. Charger les données proces­sées\n",
    "        proc_dir = Path(\"data/submission\")\n",
    "        df = pd.read_parquet(proc_dir / f\"{zone}_processed_{horizon}.parquet\")\n",
    "        \n",
    "        # 3. Séparer train/test 80/20\n",
    "        split_idx = int(len(df) * 0.8)\n",
    "        df_test   = df.iloc[split_idx:].copy()\n",
    "        \n",
    "        # 4. Charger le modèle gagnant\n",
    "        model = load_best_model(zone, horizon)\n",
    "        \n",
    "        # 5. Préparer X_test et y_true\n",
    "        y_true = df_test[\"demand\"].values\n",
    "        dates  = df_test.index\n",
    "        \n",
    "        # 6. Prédictions selon le type de modèle\n",
    "        if hasattr(model, \"predict\") and model.__class__.__module__.startswith(\"tensorflow\"):\n",
    "            # → Deep Learning : besoin de séquences + scaling\n",
    "            LOOKBACK     = 24 if horizon == \"hourly\" else 7\n",
    "            feature_cols = [c for c in df.columns if c != \"demand\"]\n",
    "            \n",
    "            # On recrée les séquences sur l'ensemble et on aligne la fin\n",
    "            X_all, y_all = create_sequences(df, \"demand\", feature_cols, LOOKBACK, horizon == \"daily\" and 7 or 1)\n",
    "            n_test        = len(df_test)\n",
    "            X_test_seq    = X_all[-n_test:]\n",
    "            \n",
    "            # Scale\n",
    "            _, X_test_scaled, _ = scale_data(X_all[:-n_test], X_test_seq)\n",
    "            y_pred = model.predict(X_test_scaled).ravel()\n",
    "        \n",
    "        elif getattr(model, \"__module__\", \"\").startswith(\"pmdarima\"):\n",
    "            # → ARIMA / SARIMAX\n",
    "            # pmdarima attend n_periods\n",
    "            y_pred = model.predict(n_periods=len(df_test))\n",
    "        \n",
    "        else:\n",
    "            # → scikit‑learn : on passe X_test\n",
    "            X_test = df_test.drop(columns=\"demand\")\n",
    "            y_pred = model.predict(X_test)\n",
    "        \n",
    "        # 7. Tracer Réel vs Prédit\n",
    "        fig = go.Figure()\n",
    "        fig.add_trace(go.Scatter(x=dates, y=y_true, name=\"Réel\"))\n",
    "        fig.add_trace(go.Scatter(x=dates, y=y_pred, name=\"Prédit\"))\n",
    "        fig.update_layout(\n",
    "            title=f\"Prévisions {horizon} – {zone}\",\n",
    "            xaxis_title=\"Date\",\n",
    "            yaxis_title=\"Demande\"\n",
    "        )\n",
    "        fig.show()\n",
    "        \n",
    "        # 8. KPI\n",
    "        kpi = evaluate_regression(\n",
    "            model=None, X_test=None,\n",
    "            y_test=pd.Series(y_true),\n",
    "            pred_series=pd.Series(y_pred)\n",
    "        )\n",
    "        print(f\"MAE:  {kpi['MAE']:.2f}\")\n",
    "        print(f\"RMSE: {kpi['RMSE']:.2f}\")\n",
    "        # print(f\"MAPE: {kpi['MAPE']:.1f}%\")\n",
    "        \n",
    "# Lier le bouton\n",
    "btn.on_click(on_button_clicked)\n"
   ]
  },
  {
   "cell_type": "markdown",
   "id": "85f287e9",
   "metadata": {},
   "source": [
    "## 4 - Fonction de mise à jour"
   ]
  },
  {
   "cell_type": "code",
   "execution_count": 21,
   "id": "f4c1359d",
   "metadata": {},
   "outputs": [
    {
     "data": {
      "application/vnd.jupyter.widget-view+json": {
       "model_id": "3befb365e6be4f53877a8f0112916589",
       "version_major": 2,
       "version_minor": 0
      },
      "text/plain": [
       "interactive(children=(Dropdown(description='Zone', index=11, options=('Peninsule_Iberique', 'Baleares', 'Canar…"
      ]
     },
     "metadata": {},
     "output_type": "display_data"
    },
    {
     "data": {
      "application/vnd.jupyter.widget-view+json": {
       "model_id": "818b3d7f734b4569b84c6dfc92ad5e75",
       "version_major": 2,
       "version_minor": 0
      },
      "text/plain": [
       "interactive(children=(Dropdown(description='Horizon', options=('hourly', 'daily'), value='hourly'), Output()),…"
      ]
     },
     "metadata": {},
     "output_type": "display_data"
    },
    {
     "data": {
      "application/vnd.jupyter.widget-view+json": {
       "model_id": "3fcd03ccafcd445ba2911c3376b23cc3",
       "version_major": 2,
       "version_minor": 0
      },
      "text/plain": [
       "Output()"
      ]
     },
     "metadata": {},
     "output_type": "display_data"
    }
   ],
   "source": [
    "out = widgets.Output()\n",
    "\n",
    "def update_dashboard(change):\n",
    "    out.clear_output()\n",
    "    zone    = zone_widget.value\n",
    "    horizon = horizon_widget.value\n",
    "\n",
    "    # 1. Chargement des données\n",
    "    df = pd.read_parquet(proc_dir / f\"{zone}_processed_{horizon}.parquet\")\n",
    "    split = int(len(df)*0.8)\n",
    "    df_train, df_test = df.iloc[:split], df.iloc[split:]\n",
    "\n",
    "    # 2. Affichage Stats\n",
    "    with out:\n",
    "        print(f\"### Statistiques pour {zone} ({horizon})\")\n",
    "        display(df[\"demand\"].describe())\n",
    "\n",
    "        # 3. Charger et afficher le meilleur modèle\n",
    "        model = load_best_model(zone, horizon)\n",
    "        print(f\"**Modèle sélectionné** : {type(model).__name__}\")\n",
    "\n",
    "        # 4. Préparation des données de test\n",
    "        if hasattr(model, \"predict\") and model.__class__.__module__.startswith(\"tensorflow\"):\n",
    "            # Deep Learning\n",
    "            LOOKBACK = 24 if horizon==\"hourly\" else 7\n",
    "            features = [c for c in df.columns if c!=\"demand\"]\n",
    "            X_seq, y_seq = create_sequences(df, \"demand\", features, LOOKBACK)\n",
    "            n_test = len(df_test)\n",
    "            X_test_seq = X_seq[-n_test:]\n",
    "            _, X_test_seq_scaled, _ = scale_data(X_seq[:-n_test], X_test_seq)\n",
    "            y_true = y_seq[-n_test:].ravel()\n",
    "            y_pred = model.predict(X_test_seq_scaled).ravel()\n",
    "            idx = df_test.index\n",
    "        else:\n",
    "            # Sklearn / ARIMA\n",
    "            X_test = df_test.drop(columns=\"demand\")\n",
    "            try:\n",
    "                y_pred = model.predict(X_test)\n",
    "            except:\n",
    "                y_pred = model.predict(n_periods=len(df_test))\n",
    "            y_true = df_test[\"demand\"].values\n",
    "            idx    = df_test.index\n",
    "\n",
    "        # 5. Plot Réel vs Prédiction\n",
    "        import matplotlib.pyplot as plt\n",
    "        # plt.style.use(\"seaborn-v0_8\")\n",
    "        fig, ax = plt.subplots(figsize=(10,4))\n",
    "        ax.plot(idx, y_true, label=\"Réel\")\n",
    "        ax.plot(idx, y_pred, label=\"Prédit\", alpha=0.7)\n",
    "        ax.set_title(f\"Demande — {zone} ({horizon})\")\n",
    "        ax.legend()\n",
    "        plt.show()\n",
    "\n",
    "        # 6. KPI\n",
    "        kpi = evaluate_regression(None, None, pd.Series(y_true), pd.Series(y_pred))\n",
    "        print(\"**Performance**\")\n",
    "        print(f\"MAE:  {kpi['MAE']:.2f}\")\n",
    "        print(f\"RMSE: {kpi['RMSE']:.2f}\")\n",
    "        print(f\"MAPE: {kpi['MAPE']:.2f}%\")\n",
    "\n",
    "widgets.interact(update_dashboard, change=zone_widget)  # lien zone\n",
    "widgets.interact(update_dashboard, change=horizon_widget)  # lien horizon\n",
    "display(out)\n"
   ]
  },
  {
   "cell_type": "markdown",
   "id": "1abe3361",
   "metadata": {},
   "source": [
    "## 6 - Lancer l’application Streamlit"
   ]
  },
  {
   "cell_type": "code",
   "execution_count": 3,
   "id": "70d5c5c7",
   "metadata": {},
   "outputs": [
    {
     "name": "stdout",
     "output_type": "stream",
     "text": [
      "Démarrage du dashboard Streamlit… (Ctrl+C pour arrêter)\n"
     ]
    },
    {
     "data": {
      "text/plain": [
       "2"
      ]
     },
     "execution_count": 3,
     "metadata": {},
     "output_type": "execute_result"
    }
   ],
   "source": [
    "import os\n",
    "print(\"Démarrage du dashboard Streamlit… (Ctrl+C pour arrêter)\")\n",
    "os.system(\"streamlit run dashboard/app.py\")\n"
   ]
  }
 ],
 "metadata": {
  "kernelspec": {
   "display_name": "base",
   "language": "python",
   "name": "python3"
  },
  "language_info": {
   "codemirror_mode": {
    "name": "ipython",
    "version": 3
   },
   "file_extension": ".py",
   "mimetype": "text/x-python",
   "name": "python",
   "nbconvert_exporter": "python",
   "pygments_lexer": "ipython3",
   "version": "3.12.7"
  }
 },
 "nbformat": 4,
 "nbformat_minor": 5
}
