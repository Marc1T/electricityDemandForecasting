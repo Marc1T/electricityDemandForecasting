{
 "cells": [
  {
   "cell_type": "markdown",
   "id": "e1a3c9dc",
   "metadata": {},
   "source": [
    "# 01 - Récupération des données (API REE / ESIOS)\n",
    "\n",
    "Ce notebook permet de :\n",
    "- Télécharger les données horaires de consommation électrique par région via l'API ESIOS (REE).\n",
    "- Sauvegarder les données brutes au format `.csv` dans le dossier `data/raw/`.\n",
    "\n",
    "Les identifiants d’indicateurs par région sont définis dans `config.yaml`.\n"
   ]
  },
  {
   "cell_type": "markdown",
   "id": "ac29c89c",
   "metadata": {},
   "source": [
    "📦 Imports & Configuration"
   ]
  },
  {
   "cell_type": "code",
   "execution_count": null,
   "id": "c8a3a1b2",
   "metadata": {},
   "outputs": [
    {
     "data": {
      "text/plain": [
       "'Término de facturación de energía activa del PVPC 2.0TD suma componentes'"
      ]
     },
     "metadata": {},
     "output_type": "display_data"
    },
    {
     "data": {
      "text/plain": [
       "10391"
      ]
     },
     "metadata": {},
     "output_type": "display_data"
    },
    {
     "data": {
      "text/html": [
       "<div>\n",
       "<style scoped>\n",
       "    .dataframe tbody tr th:only-of-type {\n",
       "        vertical-align: middle;\n",
       "    }\n",
       "\n",
       "    .dataframe tbody tr th {\n",
       "        vertical-align: top;\n",
       "    }\n",
       "\n",
       "    .dataframe thead th {\n",
       "        text-align: right;\n",
       "    }\n",
       "</style>\n",
       "<table border=\"1\" class=\"dataframe\">\n",
       "  <thead>\n",
       "    <tr style=\"text-align: right;\">\n",
       "      <th></th>\n",
       "      <th>value</th>\n",
       "      <th>datetime</th>\n",
       "      <th>datetime_utc</th>\n",
       "      <th>tz_time</th>\n",
       "      <th>geo_id</th>\n",
       "      <th>geo_name</th>\n",
       "    </tr>\n",
       "  </thead>\n",
       "  <tbody>\n",
       "    <tr>\n",
       "      <th>0</th>\n",
       "      <td>113.19</td>\n",
       "      <td>2025-05-01T00:00:00.000+02:00</td>\n",
       "      <td>2025-04-30T22:00:00Z</td>\n",
       "      <td>2025-04-30T22:00:00.000Z</td>\n",
       "      <td>8741</td>\n",
       "      <td>Península</td>\n",
       "    </tr>\n",
       "    <tr>\n",
       "      <th>1</th>\n",
       "      <td>113.19</td>\n",
       "      <td>2025-05-01T00:00:00.000+02:00</td>\n",
       "      <td>2025-04-30T22:00:00Z</td>\n",
       "      <td>2025-04-30T22:00:00.000Z</td>\n",
       "      <td>8742</td>\n",
       "      <td>Canarias</td>\n",
       "    </tr>\n",
       "    <tr>\n",
       "      <th>2</th>\n",
       "      <td>113.19</td>\n",
       "      <td>2025-05-01T00:00:00.000+02:00</td>\n",
       "      <td>2025-04-30T22:00:00Z</td>\n",
       "      <td>2025-04-30T22:00:00.000Z</td>\n",
       "      <td>8743</td>\n",
       "      <td>Baleares</td>\n",
       "    </tr>\n",
       "    <tr>\n",
       "      <th>3</th>\n",
       "      <td>113.19</td>\n",
       "      <td>2025-05-01T00:00:00.000+02:00</td>\n",
       "      <td>2025-04-30T22:00:00Z</td>\n",
       "      <td>2025-04-30T22:00:00.000Z</td>\n",
       "      <td>8744</td>\n",
       "      <td>Ceuta</td>\n",
       "    </tr>\n",
       "    <tr>\n",
       "      <th>4</th>\n",
       "      <td>113.19</td>\n",
       "      <td>2025-05-01T00:00:00.000+02:00</td>\n",
       "      <td>2025-04-30T22:00:00Z</td>\n",
       "      <td>2025-04-30T22:00:00.000Z</td>\n",
       "      <td>8745</td>\n",
       "      <td>Melilla</td>\n",
       "    </tr>\n",
       "    <tr>\n",
       "      <th>5</th>\n",
       "      <td>110.72</td>\n",
       "      <td>2025-05-01T01:00:00.000+02:00</td>\n",
       "      <td>2025-04-30T23:00:00Z</td>\n",
       "      <td>2025-04-30T23:00:00.000Z</td>\n",
       "      <td>8741</td>\n",
       "      <td>Península</td>\n",
       "    </tr>\n",
       "    <tr>\n",
       "      <th>6</th>\n",
       "      <td>110.72</td>\n",
       "      <td>2025-05-01T01:00:00.000+02:00</td>\n",
       "      <td>2025-04-30T23:00:00Z</td>\n",
       "      <td>2025-04-30T23:00:00.000Z</td>\n",
       "      <td>8742</td>\n",
       "      <td>Canarias</td>\n",
       "    </tr>\n",
       "  </tbody>\n",
       "</table>\n",
       "</div>"
      ],
      "text/plain": [
       "    value                       datetime          datetime_utc  \\\n",
       "0  113.19  2025-05-01T00:00:00.000+02:00  2025-04-30T22:00:00Z   \n",
       "1  113.19  2025-05-01T00:00:00.000+02:00  2025-04-30T22:00:00Z   \n",
       "2  113.19  2025-05-01T00:00:00.000+02:00  2025-04-30T22:00:00Z   \n",
       "3  113.19  2025-05-01T00:00:00.000+02:00  2025-04-30T22:00:00Z   \n",
       "4  113.19  2025-05-01T00:00:00.000+02:00  2025-04-30T22:00:00Z   \n",
       "5  110.72  2025-05-01T01:00:00.000+02:00  2025-04-30T23:00:00Z   \n",
       "6  110.72  2025-05-01T01:00:00.000+02:00  2025-04-30T23:00:00Z   \n",
       "\n",
       "                    tz_time  geo_id   geo_name  \n",
       "0  2025-04-30T22:00:00.000Z    8741  Península  \n",
       "1  2025-04-30T22:00:00.000Z    8742   Canarias  \n",
       "2  2025-04-30T22:00:00.000Z    8743   Baleares  \n",
       "3  2025-04-30T22:00:00.000Z    8744      Ceuta  \n",
       "4  2025-04-30T22:00:00.000Z    8745    Melilla  \n",
       "5  2025-04-30T23:00:00.000Z    8741  Península  \n",
       "6  2025-04-30T23:00:00.000Z    8742   Canarias  "
      ]
     },
     "metadata": {},
     "output_type": "display_data"
    },
    {
     "ename": "",
     "evalue": "",
     "output_type": "error",
     "traceback": [
      "\u001b[1;31mThe Kernel crashed while executing code in the current cell or a previous cell. \n",
      "\u001b[1;31mPlease review the code in the cell(s) to identify a possible cause of the failure. \n",
      "\u001b[1;31mClick <a href='https://aka.ms/vscodeJupyterKernelCrash'>here</a> for more info. \n",
      "\u001b[1;31mView Jupyter <a href='command:jupyter.viewOutput'>log</a> for further details."
     ]
    }
   ],
   "source": [
    "import json\n",
    "import requests\n",
    "import pandas as pd\n",
    "\n",
    "# !curl -X GET \"https://api.esios.ree.es/indicators/1293?start_date=2025/03/30T00:00&end_date=2025/04/30T23:59&geo_trunc='autonomous_community'&time_trunc='hour'\" \\\n",
    "#   -H \"Accept: application/json; application/vnd.esios-api-v1+json\" \\\n",
    "#   -H \"x-api-key: ...\"\n",
    "# Convertir la réponse en JSON\n",
    "# Exécuter la requête pour obtenir les données\n",
    "headers = {\n",
    "  \"Accept\": \"application/json; application/vnd.esios-api-v1+json\",\n",
    "  \"x-api-key\": \" ... \"\n",
    "}\n",
    "url = \"https://api.esios.ree.es/indicators/10391?start_date=2025/05/01T00:00&end_date=2025/06/10T23:59\"\n",
    "response = requests.get(url, headers=headers)\n",
    "\n",
    "response_data = response.json()\n",
    "# Extraire les valeurs de la réponse pour les convertir en DataFrame\n",
    "if \"indicator\" in response_data and \"values\" in response_data[\"indicator\"]:\n",
    "  values = response_data[\"indicator\"][\"values\"]\n",
    "  df = pd.DataFrame(values)\n",
    "else:\n",
    "  df = pd.DataFrame()  # Créer un DataFrame vide si les données sont absentes\n",
    "\n",
    "# Afficher les données de manière lisible\n",
    "display(response_data[\"indicator\"][\"name\"], response_data[\"indicator\"][\"id\"])\n",
    "display(df.head(7))\n",
    "# display(df.tail(3))"
   ]
  },
  {
   "cell_type": "code",
   "execution_count": 52,
   "id": "ff1a96fb",
   "metadata": {},
   "outputs": [
    {
     "data": {
      "text/plain": [
       "array([8741, 8742, 8743, 8744, 8745], dtype=int64)"
      ]
     },
     "execution_count": 52,
     "metadata": {},
     "output_type": "execute_result"
    }
   ],
   "source": [
    "df['geo_id'].unique()"
   ]
  },
  {
   "cell_type": "code",
   "execution_count": 65,
   "id": "7e319d01",
   "metadata": {},
   "outputs": [],
   "source": [
    "import requests\n",
    "import json\n",
    "\n",
    "url = \"https://api.esios.ree.es/indicators/\"\n",
    "headers = {\n",
    "    \"Accept\": \"application/json; application/vnd.esios-api-v1+json\",\n",
    "    \"x-api-key\": \"...\"\n",
    "}\n",
    "\n",
    "response = requests.get(url, headers=headers)\n",
    "if response.status_code == 200:\n",
    "    data = response.json()\n",
    "    # Rechercher l'indicateur de la demande ou de la consommation\n",
    "    for indicator in data.get(\"indicators\", []):\n",
    "        if \"Precio Voluntario\".lower() in indicator.get(\"name\", \"\").lower():\n",
    "            print(f\"{indicator['name']} (ID: {indicator['id']})\")\n",
    "else:\n",
    "    print(f\"Erreur lors de la requête: {response.status_code}\")"
   ]
  },
  {
   "cell_type": "code",
   "execution_count": null,
   "id": "031d62b5",
   "metadata": {},
   "outputs": [],
   "source": [
    "from dotenv import load_dotenv\n",
    "import os\n",
    "\n",
    "load_dotenv()  # importe ESIOS_TOKEN, AEMET_TOKEN, etc.\n",
    "os.chdir(\"..\")"
   ]
  },
  {
   "cell_type": "code",
   "execution_count": null,
   "id": "709ff424",
   "metadata": {},
   "outputs": [],
   "source": [
    "from src.data.data_loading import main as fetch_all\n",
    "\n",
    "fetch_all(start_date=\"2018-12-01\",end_date=\"2025-05-01\", indicator_knowms={2037: \"nacional\"})\n"
   ]
  },
  {
   "cell_type": "code",
   "execution_count": null,
   "id": "aa1c47cb",
   "metadata": {},
   "outputs": [],
   "source": [
    "fetch_all()"
   ]
  },
  {
   "cell_type": "code",
   "execution_count": null,
   "id": "1f84afd5",
   "metadata": {},
   "outputs": [],
   "source": [
    "fetch_all(indicator_knowms={  1343: \"La_Gomera\", 1344: \"El_Hierro\"})"
   ]
  },
  {
   "cell_type": "code",
   "execution_count": null,
   "id": "d63a34b0",
   "metadata": {},
   "outputs": [],
   "source": [
    "# Vérification des fichiers sauvegardés dans data/raw/\n",
    "import pandas as pd\n",
    "import os\n",
    "\n",
    "data_path = \"./data/raw\"\n",
    "for file in os.listdir(data_path):\n",
    "    if file.endswith(\".csv\"):\n",
    "        print(f\"\\n📄 {file}\")\n",
    "        display(pd.read_csv(os.path.join(data_path, file)).head(3))\n"
   ]
  },
  {
   "cell_type": "markdown",
   "id": "dd9386cb",
   "metadata": {},
   "source": []
  },
  {
   "cell_type": "code",
   "execution_count": 1,
   "id": "640e418a",
   "metadata": {},
   "outputs": [],
   "source": [
    "from dotenv import load_dotenv\n",
    "import os\n",
    "\n",
    "load_dotenv()\n",
    "os.chdir(\"..\")"
   ]
  },
  {
   "cell_type": "code",
   "execution_count": 2,
   "id": "9d985434",
   "metadata": {},
   "outputs": [
    {
     "name": "stdout",
     "output_type": "stream",
     "text": [
      "🔹 National 2015-05-01→2015-07-31\n",
      "🔹 National 2015-08-01→2015-10-31\n",
      "🔹 National 2015-11-01→2016-01-31\n",
      "🔹 National 2016-02-01→2016-04-30\n",
      "🔹 National 2016-05-01→2016-07-31\n",
      "🔹 National 2016-08-01→2016-10-31\n",
      "🔹 National 2016-11-01→2017-01-31\n",
      "🔹 National 2017-02-01→2017-04-30\n",
      "🔹 National 2017-05-01→2017-07-31\n",
      "🔹 National 2017-08-01→2017-10-31\n",
      "🔹 National 2017-11-01→2018-01-31\n",
      "🔹 National 2018-02-01→2018-04-30\n",
      "🔹 National 2018-05-01→2018-07-31\n",
      "🔹 National 2018-08-01→2018-10-31\n",
      "🔹 National 2018-11-01→2019-01-31\n",
      "🔹 National 2019-02-01→2019-04-30\n",
      "🔹 National 2019-05-01→2019-07-31\n",
      "🔹 National 2019-08-01→2019-10-31\n",
      "🔹 National 2019-11-01→2020-01-31\n",
      "🔹 National 2020-02-01→2020-04-30\n",
      "🔹 National 2020-05-01→2020-07-31\n",
      "🔹 National 2020-08-01→2020-10-31\n",
      "🔹 National 2020-11-01→2021-01-31\n",
      "🔹 National 2021-02-01→2021-04-30\n",
      "🔹 National 2021-05-01→2021-06-01\n",
      "🌀 Duplication → Peninsule_Iberique_pvpc_hourly.csv\n",
      "🌀 Duplication → Canarias_pvpc_hourly.csv\n",
      "🌀 Duplication → Baleares_pvpc_hourly.csv\n",
      "🌀 Duplication → Ceuta_pvpc_hourly.csv\n",
      "🌀 Duplication → Melilla_pvpc_hourly.csv\n",
      "🔹 Regional 2021-06-01→2021-08-31\n",
      "🔹 Regional 2021-09-01→2021-11-30\n",
      "🔹 Regional 2021-12-01→2022-02-28\n",
      "🔹 Regional 2022-03-01→2022-05-31\n",
      "🔹 Regional 2022-06-01→2022-08-31\n",
      "🔹 Regional 2022-09-01→2022-11-30\n",
      "🔹 Regional 2022-12-01→2023-02-28\n",
      "🔹 Regional 2023-03-01→2023-05-31\n",
      "🔹 Regional 2023-06-01→2023-08-31\n",
      "🔹 Regional 2023-09-01→2023-11-30\n",
      "🔹 Regional 2023-12-01→2024-02-29\n",
      "🔹 Regional 2024-03-01→2024-05-31\n",
      "🔹 Regional 2024-06-01→2024-08-31\n",
      "🔹 Regional 2024-09-01→2024-11-30\n",
      "🔹 Regional 2024-12-01→2025-02-28\n",
      "🔹 Regional 2025-03-01→2025-05-01\n",
      "✅ Peninsule_Iberique_pvpc_hourly.csv complété.\n",
      "✅ Canarias_pvpc_hourly.csv complété.\n",
      "✅ Baleares_pvpc_hourly.csv complété.\n",
      "✅ Ceuta_pvpc_hourly.csv complété.\n",
      "✅ Melilla_pvpc_hourly.csv complété.\n",
      "✅ National moyenne post-2021 mise à jour.\n"
     ]
    }
   ],
   "source": [
    "from src.data.external_data import main_pvpc\n",
    "main_pvpc()\n"
   ]
  },
  {
   "cell_type": "code",
   "execution_count": 1,
   "id": "959f9cff",
   "metadata": {},
   "outputs": [],
   "source": [
    "from dotenv import load_dotenv\n",
    "import os\n",
    "\n",
    "load_dotenv()\n",
    "os.chdir(\"..\")\n",
    "\n",
    "from src.data.external_data import main_weather, main_holidays"
   ]
  },
  {
   "cell_type": "code",
   "execution_count": 2,
   "id": "eef92b83",
   "metadata": {},
   "outputs": [
    {
     "name": "stdout",
     "output_type": "stream",
     "text": [
      "✅ spain_holidays.csv généré\n",
      "✅ Peninsule_Iberique_holidays.csv généré\n",
      "✅ Baleares_holidays.csv généré\n",
      "✅ Canarias_holidays.csv généré\n",
      "✅ Ceuta_holidays.csv généré\n",
      "✅ Melilla_holidays.csv généré\n"
     ]
    }
   ],
   "source": [
    "main_holidays(config_path=\"config.yaml\")"
   ]
  },
  {
   "cell_type": "code",
   "execution_count": 3,
   "id": "071133d2",
   "metadata": {},
   "outputs": [
    {
     "name": "stdout",
     "output_type": "stream",
     "text": [
      "→ Peninsule_Iberique\n",
      "  • 2015-05-01 → 2018-04-30\n",
      "  • 2018-05-01 → 2021-04-30\n",
      "  • 2021-05-01 → 2024-04-30\n",
      "  • 2024-05-01 → 2025-05-01\n",
      "  ✅ Météo sauvegardée pour Peninsule_Iberique\n",
      "→ Baleares\n",
      "  • 2015-05-01 → 2018-04-30\n",
      "  • 2018-05-01 → 2021-04-30\n",
      "  • 2021-05-01 → 2024-04-30\n",
      "  • 2024-05-01 → 2025-05-01\n",
      "  ✅ Météo sauvegardée pour Baleares\n",
      "→ Canarias\n",
      "  • 2015-05-01 → 2018-04-30\n",
      "  • 2018-05-01 → 2021-04-30\n",
      "  • 2021-05-01 → 2024-04-30\n",
      "  • 2024-05-01 → 2025-05-01\n",
      "  ✅ Météo sauvegardée pour Canarias\n",
      "→ Gran_canaria\n",
      "  • 2015-05-01 → 2018-04-30\n",
      "  • 2018-05-01 → 2021-04-30\n",
      "  • 2021-05-01 → 2024-04-30\n",
      "  • 2024-05-01 → 2025-05-01\n",
      "  ✅ Météo sauvegardée pour Gran_canaria\n",
      "→ Ceuta\n",
      "  • 2015-05-01 → 2018-04-30\n",
      "  • 2018-05-01 → 2021-04-30\n",
      "    ⚠️ Erreur 2018-05-01-2021-04-30: 429 Client Error: Too Many Requests for url: https://archive-api.open-meteo.com/v1/archive?latitude=35.8894&longitude=-5.319&start_date=2018-05-01&end_date=2021-04-30&hourly=temperature_2m%2Crelative_humidity_2m%2Cwind_speed_10m%2Ccloudcover%2Cshortwave_radiation%2Cprecipitation\n",
      "  • 2021-05-01 → 2024-04-30\n",
      "  • 2024-05-01 → 2025-05-01\n",
      "  ✅ Météo sauvegardée pour Ceuta\n",
      "→ Melilla\n",
      "  • 2015-05-01 → 2018-04-30\n",
      "  • 2018-05-01 → 2021-04-30\n",
      "  • 2021-05-01 → 2024-04-30\n",
      "  • 2024-05-01 → 2025-05-01\n",
      "  ✅ Météo sauvegardée pour Melilla\n",
      "→ Lanzarote_Fuerteventura\n",
      "  • 2015-05-01 → 2018-04-30\n",
      "  • 2018-05-01 → 2021-04-30\n",
      "  • 2021-05-01 → 2024-04-30\n",
      "  • 2024-05-01 → 2025-05-01\n",
      "  ✅ Météo sauvegardée pour Lanzarote_Fuerteventura\n",
      "→ Tenerife\n",
      "  • 2015-05-01 → 2018-04-30\n",
      "  • 2018-05-01 → 2021-04-30\n",
      "  • 2021-05-01 → 2024-04-30\n",
      "  • 2024-05-01 → 2025-05-01\n",
      "  ✅ Météo sauvegardée pour Tenerife\n",
      "→ La_Palma\n",
      "  • 2015-05-01 → 2018-04-30\n",
      "  • 2018-05-01 → 2021-04-30\n",
      "  • 2021-05-01 → 2024-04-30\n",
      "  • 2024-05-01 → 2025-05-01\n",
      "  ✅ Météo sauvegardée pour La_Palma\n",
      "→ La_Gomera\n",
      "  • 2015-05-01 → 2018-04-30\n",
      "  • 2018-05-01 → 2021-04-30\n",
      "  • 2021-05-01 → 2024-04-30\n",
      "  • 2024-05-01 → 2025-05-01\n",
      "  ✅ Météo sauvegardée pour La_Gomera\n",
      "→ El_Hierro\n",
      "  • 2015-05-01 → 2018-04-30\n",
      "  • 2018-05-01 → 2021-04-30\n",
      "  • 2021-05-01 → 2024-04-30\n",
      "  • 2024-05-01 → 2025-05-01\n",
      "  ✅ Météo sauvegardée pour El_Hierro\n"
     ]
    }
   ],
   "source": [
    "main_weather(window_months=36)\n"
   ]
  },
  {
   "cell_type": "code",
   "execution_count": null,
   "id": "31b7c179",
   "metadata": {},
   "outputs": [],
   "source": []
  }
 ],
 "metadata": {
  "kernelspec": {
   "display_name": "base",
   "language": "python",
   "name": "python3"
  },
  "language_info": {
   "codemirror_mode": {
    "name": "ipython",
    "version": 3
   },
   "file_extension": ".py",
   "mimetype": "text/x-python",
   "name": "python",
   "nbconvert_exporter": "python",
   "pygments_lexer": "ipython3",
   "version": "3.12.7"
  }
 },
 "nbformat": 4,
 "nbformat_minor": 5
}
