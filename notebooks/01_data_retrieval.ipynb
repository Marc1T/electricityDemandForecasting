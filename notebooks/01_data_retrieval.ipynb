{
 "cells": [
  {
   "cell_type": "markdown",
   "id": "e1a3c9dc",
   "metadata": {},
   "source": [
    "# 01 - Récupération des données (API REE / ESIOS)\n",
    "\n",
    "Ce notebook permet de :\n",
    "- Télécharger les données horaires de consommation électrique par région via l'API ESIOS (REE).\n",
    "- Sauvegarder les données brutes au format `.csv` dans le dossier `data/raw/`.\n",
    "\n",
    "Les identifiants d’indicateurs par région sont définis dans `config.yaml`.\n"
   ]
  },
  {
   "cell_type": "markdown",
   "id": "ac29c89c",
   "metadata": {},
   "source": [
    "📦 Imports & Configuration"
   ]
  },
  {
   "cell_type": "code",
   "execution_count": null,
   "id": "031d62b5",
   "metadata": {},
   "outputs": [],
   "source": [
    "from dotenv import load_dotenv\n",
    "import os\n",
    "\n",
    "load_dotenv()  # importe ESIOS_TOKEN, AEMET_TOKEN, etc.\n",
    "os.chdir(\"..\")"
   ]
  },
  {
   "cell_type": "code",
   "execution_count": null,
   "id": "709ff424",
   "metadata": {},
   "outputs": [],
   "source": [
    "from src.data.data_loading import main as fetch_all\n",
    "\n",
    "fetch_all(start_date=\"2018-12-01\",end_date=\"2025-05-01\", indicator_knowms={2037: \"nacional\"})\n"
   ]
  },
  {
   "cell_type": "code",
   "execution_count": null,
   "id": "aa1c47cb",
   "metadata": {},
   "outputs": [],
   "source": [
    "fetch_all()"
   ]
  },
  {
   "cell_type": "code",
   "execution_count": null,
   "id": "1f84afd5",
   "metadata": {},
   "outputs": [],
   "source": [
    "fetch_all(indicator_knowms={  1343: \"La_Gomera\", 1344: \"El_Hierro\"})"
   ]
  },
  {
   "cell_type": "code",
   "execution_count": null,
   "id": "d63a34b0",
   "metadata": {},
   "outputs": [],
   "source": [
    "# Vérification des fichiers sauvegardés dans data/raw/\n",
    "import pandas as pd\n",
    "import os\n",
    "\n",
    "data_path = \"./data/raw\"\n",
    "for file in os.listdir(data_path):\n",
    "    if file.endswith(\".csv\"):\n",
    "        print(f\"\\n📄 {file}\")\n",
    "        display(pd.read_csv(os.path.join(data_path, file)).head(3))\n"
   ]
  },
  {
   "cell_type": "markdown",
   "id": "dd9386cb",
   "metadata": {},
   "source": []
  },
  {
   "cell_type": "code",
   "execution_count": 1,
   "id": "640e418a",
   "metadata": {},
   "outputs": [],
   "source": [
    "from dotenv import load_dotenv\n",
    "import os\n",
    "\n",
    "load_dotenv()\n",
    "os.chdir(\"..\")"
   ]
  },
  {
   "cell_type": "code",
   "execution_count": 2,
   "id": "9d985434",
   "metadata": {},
   "outputs": [
    {
     "name": "stdout",
     "output_type": "stream",
     "text": [
      "🔹 National 2015-05-01→2015-07-31\n",
      "🔹 National 2015-08-01→2015-10-31\n",
      "🔹 National 2015-11-01→2016-01-31\n",
      "🔹 National 2016-02-01→2016-04-30\n",
      "🔹 National 2016-05-01→2016-07-31\n",
      "🔹 National 2016-08-01→2016-10-31\n",
      "🔹 National 2016-11-01→2017-01-31\n",
      "🔹 National 2017-02-01→2017-04-30\n",
      "🔹 National 2017-05-01→2017-07-31\n",
      "🔹 National 2017-08-01→2017-10-31\n",
      "🔹 National 2017-11-01→2018-01-31\n",
      "🔹 National 2018-02-01→2018-04-30\n",
      "🔹 National 2018-05-01→2018-07-31\n",
      "🔹 National 2018-08-01→2018-10-31\n",
      "🔹 National 2018-11-01→2019-01-31\n",
      "🔹 National 2019-02-01→2019-04-30\n",
      "🔹 National 2019-05-01→2019-07-31\n",
      "🔹 National 2019-08-01→2019-10-31\n",
      "🔹 National 2019-11-01→2020-01-31\n",
      "🔹 National 2020-02-01→2020-04-30\n",
      "🔹 National 2020-05-01→2020-07-31\n",
      "🔹 National 2020-08-01→2020-10-31\n",
      "🔹 National 2020-11-01→2021-01-31\n",
      "🔹 National 2021-02-01→2021-04-30\n",
      "🔹 National 2021-05-01→2021-06-01\n",
      "🌀 Duplication → Peninsule_Iberique_pvpc_hourly.csv\n",
      "🌀 Duplication → Canarias_pvpc_hourly.csv\n",
      "🌀 Duplication → Baleares_pvpc_hourly.csv\n",
      "🌀 Duplication → Ceuta_pvpc_hourly.csv\n",
      "🌀 Duplication → Melilla_pvpc_hourly.csv\n",
      "🔹 Regional 2021-06-01→2021-08-31\n",
      "🔹 Regional 2021-09-01→2021-11-30\n",
      "🔹 Regional 2021-12-01→2022-02-28\n",
      "🔹 Regional 2022-03-01→2022-05-31\n",
      "🔹 Regional 2022-06-01→2022-08-31\n",
      "🔹 Regional 2022-09-01→2022-11-30\n",
      "🔹 Regional 2022-12-01→2023-02-28\n",
      "🔹 Regional 2023-03-01→2023-05-31\n",
      "🔹 Regional 2023-06-01→2023-08-31\n",
      "🔹 Regional 2023-09-01→2023-11-30\n",
      "🔹 Regional 2023-12-01→2024-02-29\n",
      "🔹 Regional 2024-03-01→2024-05-31\n",
      "🔹 Regional 2024-06-01→2024-08-31\n",
      "🔹 Regional 2024-09-01→2024-11-30\n",
      "🔹 Regional 2024-12-01→2025-02-28\n",
      "🔹 Regional 2025-03-01→2025-05-01\n",
      "✅ Peninsule_Iberique_pvpc_hourly.csv complété.\n",
      "✅ Canarias_pvpc_hourly.csv complété.\n",
      "✅ Baleares_pvpc_hourly.csv complété.\n",
      "✅ Ceuta_pvpc_hourly.csv complété.\n",
      "✅ Melilla_pvpc_hourly.csv complété.\n",
      "✅ National moyenne post-2021 mise à jour.\n"
     ]
    }
   ],
   "source": [
    "from src.data.external_data import main_pvpc\n",
    "main_pvpc()\n"
   ]
  },
  {
   "cell_type": "code",
   "execution_count": 1,
   "id": "959f9cff",
   "metadata": {},
   "outputs": [],
   "source": [
    "from dotenv import load_dotenv\n",
    "import os\n",
    "\n",
    "load_dotenv()\n",
    "os.chdir(\"..\")\n",
    "\n",
    "from src.data.external_data import main_weather, main_holidays"
   ]
  },
  {
   "cell_type": "code",
   "execution_count": 2,
   "id": "eef92b83",
   "metadata": {},
   "outputs": [
    {
     "name": "stdout",
     "output_type": "stream",
     "text": [
      "✅ spain_holidays.csv généré\n",
      "✅ Peninsule_Iberique_holidays.csv généré\n",
      "✅ Baleares_holidays.csv généré\n",
      "✅ Canarias_holidays.csv généré\n",
      "✅ Ceuta_holidays.csv généré\n",
      "✅ Melilla_holidays.csv généré\n"
     ]
    }
   ],
   "source": [
    "main_holidays(config_path=\"config.yaml\")"
   ]
  },
  {
   "cell_type": "code",
   "execution_count": 3,
   "id": "071133d2",
   "metadata": {},
   "outputs": [
    {
     "name": "stdout",
     "output_type": "stream",
     "text": [
      "→ Peninsule_Iberique\n",
      "  • 2015-05-01 → 2018-04-30\n",
      "  • 2018-05-01 → 2021-04-30\n",
      "  • 2021-05-01 → 2024-04-30\n",
      "  • 2024-05-01 → 2025-05-01\n",
      "  ✅ Météo sauvegardée pour Peninsule_Iberique\n",
      "→ Baleares\n",
      "  • 2015-05-01 → 2018-04-30\n",
      "  • 2018-05-01 → 2021-04-30\n",
      "  • 2021-05-01 → 2024-04-30\n",
      "  • 2024-05-01 → 2025-05-01\n",
      "  ✅ Météo sauvegardée pour Baleares\n",
      "→ Canarias\n",
      "  • 2015-05-01 → 2018-04-30\n",
      "  • 2018-05-01 → 2021-04-30\n",
      "  • 2021-05-01 → 2024-04-30\n",
      "  • 2024-05-01 → 2025-05-01\n",
      "  ✅ Météo sauvegardée pour Canarias\n",
      "→ Gran_canaria\n",
      "  • 2015-05-01 → 2018-04-30\n",
      "  • 2018-05-01 → 2021-04-30\n",
      "  • 2021-05-01 → 2024-04-30\n",
      "  • 2024-05-01 → 2025-05-01\n",
      "  ✅ Météo sauvegardée pour Gran_canaria\n",
      "→ Ceuta\n",
      "  • 2015-05-01 → 2018-04-30\n",
      "  • 2018-05-01 → 2021-04-30\n",
      "    ⚠️ Erreur 2018-05-01-2021-04-30: 429 Client Error: Too Many Requests for url: https://archive-api.open-meteo.com/v1/archive?latitude=35.8894&longitude=-5.319&start_date=2018-05-01&end_date=2021-04-30&hourly=temperature_2m%2Crelative_humidity_2m%2Cwind_speed_10m%2Ccloudcover%2Cshortwave_radiation%2Cprecipitation\n",
      "  • 2021-05-01 → 2024-04-30\n",
      "  • 2024-05-01 → 2025-05-01\n",
      "  ✅ Météo sauvegardée pour Ceuta\n",
      "→ Melilla\n",
      "  • 2015-05-01 → 2018-04-30\n",
      "  • 2018-05-01 → 2021-04-30\n",
      "  • 2021-05-01 → 2024-04-30\n",
      "  • 2024-05-01 → 2025-05-01\n",
      "  ✅ Météo sauvegardée pour Melilla\n",
      "→ Lanzarote_Fuerteventura\n",
      "  • 2015-05-01 → 2018-04-30\n",
      "  • 2018-05-01 → 2021-04-30\n",
      "  • 2021-05-01 → 2024-04-30\n",
      "  • 2024-05-01 → 2025-05-01\n",
      "  ✅ Météo sauvegardée pour Lanzarote_Fuerteventura\n",
      "→ Tenerife\n",
      "  • 2015-05-01 → 2018-04-30\n",
      "  • 2018-05-01 → 2021-04-30\n",
      "  • 2021-05-01 → 2024-04-30\n",
      "  • 2024-05-01 → 2025-05-01\n",
      "  ✅ Météo sauvegardée pour Tenerife\n",
      "→ La_Palma\n",
      "  • 2015-05-01 → 2018-04-30\n",
      "  • 2018-05-01 → 2021-04-30\n",
      "  • 2021-05-01 → 2024-04-30\n",
      "  • 2024-05-01 → 2025-05-01\n",
      "  ✅ Météo sauvegardée pour La_Palma\n",
      "→ La_Gomera\n",
      "  • 2015-05-01 → 2018-04-30\n",
      "  • 2018-05-01 → 2021-04-30\n",
      "  • 2021-05-01 → 2024-04-30\n",
      "  • 2024-05-01 → 2025-05-01\n",
      "  ✅ Météo sauvegardée pour La_Gomera\n",
      "→ El_Hierro\n",
      "  • 2015-05-01 → 2018-04-30\n",
      "  • 2018-05-01 → 2021-04-30\n",
      "  • 2021-05-01 → 2024-04-30\n",
      "  • 2024-05-01 → 2025-05-01\n",
      "  ✅ Météo sauvegardée pour El_Hierro\n"
     ]
    }
   ],
   "source": [
    "main_weather(window_months=36)\n"
   ]
  },
  {
   "cell_type": "code",
   "execution_count": null,
   "id": "31b7c179",
   "metadata": {},
   "outputs": [],
   "source": []
  }
 ],
 "metadata": {
  "kernelspec": {
   "display_name": "base",
   "language": "python",
   "name": "python3"
  },
  "language_info": {
   "codemirror_mode": {
    "name": "ipython",
    "version": 3
   },
   "file_extension": ".py",
   "mimetype": "text/x-python",
   "name": "python",
   "nbconvert_exporter": "python",
   "pygments_lexer": "ipython3",
   "version": "3.12.7"
  }
 },
 "nbformat": 4,
 "nbformat_minor": 5
}
