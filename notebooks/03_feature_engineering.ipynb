{
 "cells": [
  {
   "cell_type": "markdown",
   "id": "e50a7974",
   "metadata": {},
   "source": [
    "## 1. Imports & chargement\n"
   ]
  },
  {
   "cell_type": "code",
   "execution_count": 1,
   "id": "b325b243",
   "metadata": {},
   "outputs": [],
   "source": [
    "from dotenv import load_dotenv\n",
    "import os\n",
    "\n",
    "load_dotenv()\n",
    "os.chdir(\"..\")"
   ]
  },
  {
   "cell_type": "code",
   "execution_count": 2,
   "id": "2a3adf66",
   "metadata": {},
   "outputs": [],
   "source": [
    "# imports\n",
    "import pandas as pd\n",
    "import numpy as np\n",
    "from pathlib import Path\n",
    "from sklearn.feature_selection import mutual_info_regression\n",
    "import matplotlib.pyplot as plt\n",
    "\n",
    "# config et chemins\n",
    "cfg_path = Path(\"config.yaml\")\n",
    "import yaml\n",
    "cfg = yaml.safe_load(open(cfg_path))\n",
    "inter_dir = Path(cfg[\"paths\"][\"data\"][\"interim\"])\n",
    "processed_dir = Path(cfg[\"paths\"][\"data\"][\"processed\"])\n",
    "processed_dir.mkdir(parents=True, exist_ok=True)\n",
    "\n",
    "# liste des zones\n",
    "zones = [p.stem.replace(\"_interim_hourly\",\"\")\n",
    "         for p in inter_dir.glob(\"*_interim_hourly.pkl\")]\n"
   ]
  },
  {
   "cell_type": "code",
   "execution_count": 3,
   "id": "8de9c9a3",
   "metadata": {},
   "outputs": [
    {
     "name": "stdout",
     "output_type": "stream",
     "text": [
      "['Baleares', 'Canarias', 'Ceuta', 'El_Hierro', 'Gran_canaria', 'Lanzarote_Fuerteventura', 'La_Gomera', 'La_Palma', 'Melilla', 'nacional', 'Peninsule_Iberique', 'Tenerife']\n"
     ]
    }
   ],
   "source": [
    "print(zones)"
   ]
  },
  {
   "cell_type": "markdown",
   "id": "c1e80351",
   "metadata": {},
   "source": [
    "## 2. Degrés-jours (HDD/CDD)"
   ]
  },
  {
   "cell_type": "code",
   "execution_count": 4,
   "id": "dad51621",
   "metadata": {},
   "outputs": [],
   "source": [
    "# fonctions HDD / CDD\n",
    "def add_degree_days(df, base_temp=18.0):\n",
    "    df[\"HDD\"] = np.maximum(0, base_temp - df[\"temperature_2m\"])\n",
    "    df[\"CDD\"] = np.maximum(0, df[\"temperature_2m\"] - base_temp)\n",
    "    return df\n"
   ]
  },
  {
   "cell_type": "markdown",
   "id": "db06604d",
   "metadata": {},
   "source": [
    "## 3. Indices de confort"
   ]
  },
  {
   "cell_type": "code",
   "execution_count": 5,
   "id": "23f6a318",
   "metadata": {},
   "outputs": [],
   "source": [
    "def compute_heat_index(T, RH):\n",
    "    # formule simplifiée de Rothfusz (approx)\n",
    "    return -8.7847 + 1.6114*T + 2.3385*RH - 0.1461*T*RH \\\n",
    "           - 0.0123*T**2 - 0.0164*RH**2 + 0.0022*T**2*RH \\\n",
    "           + 0.0007*T*RH**2 - 0.0000*T**2*RH**2\n",
    "\n",
    "def add_comfort_indices(df):\n",
    "    df[\"HeatIndex\"] = compute_heat_index(df[\"temperature_2m\"],\n",
    "                                         df[\"relative_humidity_2m\"])\n",
    "    # Wind Chill si T<=10°C et vent>4.8km/h (conversion m/s→km/h*)\n",
    "    v_kmh = df[\"wind_speed_10m\"] * 3.6\n",
    "    df[\"WindChill\"] = np.where(\n",
    "        (df[\"temperature_2m\"] <= 10) & (v_kmh > 4.8),\n",
    "        13.12 + 0.6215*df[\"temperature_2m\"] - 11.37*v_kmh**0.16\n",
    "        + 0.3965*df[\"temperature_2m\"]*v_kmh**0.16,\n",
    "        df[\"temperature_2m\"]\n",
    "    )\n",
    "    return df\n"
   ]
  },
  {
   "cell_type": "markdown",
   "id": "ae74d1d1",
   "metadata": {},
   "source": [
    "## 4. Fenêtres glissantes météo et prix"
   ]
  },
  {
   "cell_type": "code",
   "execution_count": 6,
   "id": "64c6d5c5",
   "metadata": {},
   "outputs": [],
   "source": [
    "# rolling windows pour variables clés\n",
    "def add_rolling_features(df):\n",
    "    windows = [3, 12, 24, 7, 14, 30, 365]  # en heures ou jours\n",
    "    for w in windows:\n",
    "        df[f\"temp_rmean_{w}\"] = df[\"temperature_2m\"].rolling(w).mean()\n",
    "        df[f\"pvpc_rmean_{w}\"] = df[\"pvpc\"].rolling(w).mean()\n",
    "        df[f\"rad_rsum_{w}\"]   = df[\"shortwave_radiation\"].rolling(w).sum()\n",
    "    return df\n"
   ]
  },
  {
   "cell_type": "markdown",
   "id": "ce95b84a",
   "metadata": {},
   "source": [
    "## 5. Encodages cycliques et calendaires"
   ]
  },
  {
   "cell_type": "code",
   "execution_count": 7,
   "id": "009bacf1",
   "metadata": {},
   "outputs": [],
   "source": [
    "# encodages cycliques et saisons\n",
    "def add_cyclic_time_features(df):\n",
    "    idx = df.index\n",
    "    df[\"hour\"]    = idx.hour\n",
    "    df[\"hour_sin\"] = np.sin(2*np.pi*df[\"hour\"]/24)\n",
    "    df[\"hour_cos\"] = np.cos(2*np.pi*df[\"hour\"]/24)\n",
    "\n",
    "    df[\"dayofweek\"]  = idx.dayofweek\n",
    "    df[\"dow_sin\"]    = np.sin(2*np.pi*df[\"dayofweek\"]/7)\n",
    "    df[\"dow_cos\"]    = np.cos(2*np.pi*df[\"dayofweek\"]/7)\n",
    "\n",
    "    df[\"month\"]   = idx.month\n",
    "    df[\"mth_sin\"] = np.sin(2*np.pi*(df[\"month\"]-1)/12)\n",
    "    df[\"mth_cos\"] = np.cos(2*np.pi*(df[\"month\"]-1)/12)\n",
    "\n",
    "    df[\"season\"] = ((idx.month % 12 + 3)//3).astype(int)  # 1=hiver,2=printemps…\n",
    "    return df\n"
   ]
  },
  {
   "cell_type": "markdown",
   "id": "1c1486ab",
   "metadata": {},
   "source": [
    "## 6. Interactions et transformations non linéaires"
   ]
  },
  {
   "cell_type": "code",
   "execution_count": 8,
   "id": "b2154bb4",
   "metadata": {},
   "outputs": [],
   "source": [
    "# interactions supplémentaires\n",
    "def add_interactions(df):\n",
    "    # Interaction entre température et humidité relative\n",
    "    df[\"T_x_RH\"] = df[\"temperature_2m\"] * df[\"relative_humidity_2m\"]\n",
    "    \n",
    "    # Carré de la température\n",
    "    df[\"T_sq\"] = df[\"temperature_2m\"] ** 2\n",
    "    \n",
    "    # Interaction entre prix PVPC et température\n",
    "    df[\"pvpc_x_T\"] = df[\"pvpc\"] * df[\"temperature_2m\"]\n",
    "    \n",
    "    # Interaction entre radiation solaire et température\n",
    "    if \"shortwave_radiation\" in df.columns:\n",
    "        df[\"rad_x_T\"] = df[\"shortwave_radiation\"] * df[\"temperature_2m\"]\n",
    "    \n",
    "    # Interaction entre radiation solaire et humidité relative\n",
    "    if \"shortwave_radiation\" in df.columns:\n",
    "        df[\"rad_x_RH\"] = df[\"shortwave_radiation\"] * df[\"relative_humidity_2m\"]\n",
    "    \n",
    "    # Interaction entre vitesse du vent et température\n",
    "    if \"wind_speed_10m\" in df.columns:\n",
    "        df[\"wind_x_T\"] = df[\"wind_speed_10m\"] * df[\"temperature_2m\"]\n",
    "    \n",
    "    # Interaction entre vitesse du vent et humidité relative\n",
    "    if \"wind_speed_10m\" in df.columns:\n",
    "        df[\"wind_x_RH\"] = df[\"wind_speed_10m\"] * df[\"relative_humidity_2m\"]\n",
    "    \n",
    "    # Interaction entre radiation solaire et prix PVPC\n",
    "    if \"shortwave_radiation\" in df.columns:\n",
    "        df[\"rad_x_pvpc\"] = df[\"shortwave_radiation\"] * df[\"pvpc\"]\n",
    "    \n",
    "    return df\n"
   ]
  },
  {
   "cell_type": "markdown",
   "id": "6e56cda4",
   "metadata": {},
   "source": [
    "## 7. Sélection de features"
   ]
  },
  {
   "cell_type": "code",
   "execution_count": 9,
   "id": "f5796db0",
   "metadata": {},
   "outputs": [],
   "source": [
    "# mutual information et importance simple\n",
    "def select_features(df, target=\"demand\", top_k=20, drop_na_thresh=0.2, random_state=0):\n",
    "    # Retirer les colonnes avec trop de NaN\n",
    "    na_frac = df.isna().mean()\n",
    "    cols_keep = na_frac[na_frac < drop_na_thresh].index.tolist()\n",
    "    if target not in cols_keep:\n",
    "        cols_keep.append(target)\n",
    "    df = df[cols_keep].copy()\n",
    "    \n",
    "    # Remplir les NaN restants\n",
    "    X = df.drop(columns=[target]).fillna(df.median(numeric_only=True))\n",
    "    y = df[target].values\n",
    "\n",
    "    # Mutual information\n",
    "    mi = mutual_info_regression(X, y, discrete_features=False, random_state=random_state)\n",
    "    mi_s = pd.Series(mi, index=X.columns).sort_values(ascending=False)\n",
    "    return mi_s.head(top_k)\n"
   ]
  },
  {
   "cell_type": "code",
   "execution_count": 10,
   "id": "6859c731",
   "metadata": {},
   "outputs": [
    {
     "data": {
      "text/plain": [
       "lag_1h            1.615070\n",
       "lag_24h           1.560409\n",
       "lag_168h          1.213771\n",
       "lag_2h            1.006715\n",
       "lag_3h            0.694872\n",
       "lag_4h            0.525600\n",
       "dayofyear         0.477822\n",
       "rmean_7d          0.450600\n",
       "lag_5h            0.434340\n",
       "temperature_2m    0.412538\n",
       "dtype: float64"
      ]
     },
     "metadata": {},
     "output_type": "display_data"
    },
    {
     "data": {
      "image/png": "[encoded data removed]",
      "text/plain": [
       "<Figure size 600x400 with 1 Axes>"
      ]
     },
     "metadata": {},
     "output_type": "display_data"
    }
   ],
   "source": [
    "# Exemple d’affichage pour la première zone\n",
    "mi_top = select_features(\n",
    "    pd.read_pickle(inter_dir/f\"{zones[0]}_interim_hourly.pkl\")\n",
    ")\n",
    "display(mi_top.head(10))\n",
    "mi_top.plot.barh(figsize=(6,4))\n",
    "plt.title(f\"Top features pour {zones[0]}\")\n",
    "plt.show()"
   ]
  },
  {
   "cell_type": "code",
   "execution_count": 11,
   "id": "19e7f535",
   "metadata": {},
   "outputs": [
    {
     "data": {
      "text/plain": [
       "lag_1d            1.305263\n",
       "rmean_7d          0.986214\n",
       "lag_2d            0.917925\n",
       "lag_7d            0.917214\n",
       "lag_3d            0.865363\n",
       "lag_6d            0.816989\n",
       "lag_4d            0.801699\n",
       "temperature_2m    0.777302\n",
       "lag_5d            0.774307\n",
       "lag_365d          0.514790\n",
       "dtype: float64"
      ]
     },
     "metadata": {},
     "output_type": "display_data"
    },
    {
     "data": {
      "image/png": "[encoded data removed]",
      "text/plain": [
       "<Figure size 600x400 with 1 Axes>"
      ]
     },
     "metadata": {},
     "output_type": "display_data"
    }
   ],
   "source": [
    "# Exemple d’affichage pour la première zone\n",
    "mi_top = select_features(\n",
    "    pd.read_pickle(inter_dir/f\"{zones[0]}_interim_daily.pkl\")\n",
    ")\n",
    "display(mi_top.head(10))\n",
    "mi_top.plot.barh(figsize=(6,4))\n",
    "plt.title(f\"Top features pour {zones[0]}\")\n",
    "plt.show()"
   ]
  },
  {
   "cell_type": "markdown",
   "id": "56ee1817",
   "metadata": {},
   "source": [
    "## 8. Boucle complète et export final"
   ]
  },
  {
   "cell_type": "code",
   "execution_count": 12,
   "id": "c39104d3",
   "metadata": {},
   "outputs": [
    {
     "name": "stdout",
     "output_type": "stream",
     "text": [
      "→ Feature engineering Baleares\n",
      "   • saved Baleares_processed_hourly.parquet\n",
      "→ Feature engineering Canarias\n",
      "   • saved Canarias_processed_hourly.parquet\n",
      "→ Feature engineering Ceuta\n",
      "   • saved Ceuta_processed_hourly.parquet\n",
      "→ Feature engineering El_Hierro\n",
      "   • saved El_Hierro_processed_hourly.parquet\n",
      "→ Feature engineering Gran_canaria\n",
      "   • saved Gran_canaria_processed_hourly.parquet\n",
      "→ Feature engineering Lanzarote_Fuerteventura\n",
      "   • saved Lanzarote_Fuerteventura_processed_hourly.parquet\n",
      "→ Feature engineering La_Gomera\n",
      "   • saved La_Gomera_processed_hourly.parquet\n",
      "→ Feature engineering La_Palma\n",
      "   • saved La_Palma_processed_hourly.parquet\n",
      "→ Feature engineering Melilla\n",
      "   • saved Melilla_processed_hourly.parquet\n",
      "→ Feature engineering nacional\n",
      "   • saved nacional_processed_hourly.parquet\n",
      "→ Feature engineering Peninsule_Iberique\n",
      "   • saved Peninsule_Iberique_processed_hourly.parquet\n",
      "→ Feature engineering Tenerife\n",
      "   • saved Tenerife_processed_hourly.parquet\n"
     ]
    }
   ],
   "source": [
    "# pipeline feature engineering et sauvegarde processed\n",
    "list_of_features_keep = []\n",
    "for zone in zones:\n",
    "    print(f\"→ Feature engineering {zone}\")\n",
    "    df = pd.read_pickle(inter_dir/f\"{zone}_interim_hourly.pkl\")\n",
    "\n",
    "    df = add_degree_days(df)\n",
    "    df = add_comfort_indices(df)\n",
    "    df = add_rolling_features(df)\n",
    "    df = add_cyclic_time_features(df)\n",
    "    df = add_interactions(df)\n",
    "    # on peut réutiliser fill_missing si des Na restent\n",
    "    df = df.ffill().bfill()\n",
    "\n",
    "    df = df[\"2019-01-01\":]\n",
    "\n",
    "    # on peut garder les features de la liste ci-dessous\n",
    "    features_to_keep = [\"demand\", \"lag_1h\", \"lag_2h\", \"lag_3h\", \"lag_4h\", \"lag_6h\", \"lag_12h\", \"lag_24h\"]\n",
    "    features_to_keep += select_features(df, top_k= 12).index.tolist() \n",
    "\n",
    "    features_to_keep = list(set(features_to_keep))\n",
    "    list_of_features_keep.append((zone, features_to_keep))\n",
    "\n",
    "    # on ne garde que les features sélectionnées\n",
    "    df_e = df[features_to_keep][:\"2024-01-02\"]\n",
    "    df_s = df[features_to_keep][\"2024-01-02\":]\n",
    "\n",
    "    # Export final en Parquet\n",
    "    out_path_e = processed_dir/f\"{zone}_processed_hourly.parquet\"\n",
    "    out_path_s = processed_dir/\"..\"/\"submission\"/f\"{zone}_processed_hourly.parquet\"\n",
    "\n",
    "    df_e.to_parquet(out_path_e, index=True)\n",
    "    df_s.to_parquet(out_path_s, index=True)\n",
    "    print(f\"   • saved {out_path_e.name}\")\n",
    "\n",
    "# sauvegarde des features sélectionnées\n",
    "features_df = pd.DataFrame(list_of_features_keep, columns=[\"zone\", \"features\"])\n",
    "features_df.to_csv(processed_dir/\"..\"/\"submission\"/\"features_selected_hourly.csv\", index=False)"
   ]
  },
  {
   "cell_type": "code",
   "execution_count": 16,
   "id": "ea1380f2",
   "metadata": {},
   "outputs": [
    {
     "name": "stdout",
     "output_type": "stream",
     "text": [
      "→ Feature engineering Baleares\n",
      "   • saved Baleares_processed_daily.parquet\n",
      "→ Feature engineering Canarias\n",
      "   • saved Baleares_processed_daily.parquet\n",
      "→ Feature engineering Canarias\n",
      "   • saved Canarias_processed_daily.parquet\n",
      "→ Feature engineering Ceuta\n",
      "   • saved Canarias_processed_daily.parquet\n",
      "→ Feature engineering Ceuta\n",
      "   • saved Ceuta_processed_daily.parquet\n",
      "→ Feature engineering El_Hierro\n",
      "   • saved Ceuta_processed_daily.parquet\n",
      "→ Feature engineering El_Hierro\n",
      "   • saved El_Hierro_processed_daily.parquet\n",
      "→ Feature engineering Gran_canaria\n",
      "   • saved El_Hierro_processed_daily.parquet\n",
      "→ Feature engineering Gran_canaria\n",
      "   • saved Gran_canaria_processed_daily.parquet\n",
      "→ Feature engineering Lanzarote_Fuerteventura\n",
      "   • saved Gran_canaria_processed_daily.parquet\n",
      "→ Feature engineering Lanzarote_Fuerteventura\n",
      "   • saved Lanzarote_Fuerteventura_processed_daily.parquet\n",
      "→ Feature engineering La_Gomera\n",
      "   • saved Lanzarote_Fuerteventura_processed_daily.parquet\n",
      "→ Feature engineering La_Gomera\n",
      "   • saved La_Gomera_processed_daily.parquet\n",
      "→ Feature engineering La_Palma\n",
      "   • saved La_Gomera_processed_daily.parquet\n",
      "→ Feature engineering La_Palma\n",
      "   • saved La_Palma_processed_daily.parquet\n",
      "→ Feature engineering Melilla\n",
      "   • saved La_Palma_processed_daily.parquet\n",
      "→ Feature engineering Melilla\n",
      "   • saved Melilla_processed_daily.parquet\n",
      "→ Feature engineering nacional\n",
      "   • saved Melilla_processed_daily.parquet\n",
      "→ Feature engineering nacional\n",
      "   • saved nacional_processed_daily.parquet\n",
      "→ Feature engineering Peninsule_Iberique\n",
      "   • saved nacional_processed_daily.parquet\n",
      "→ Feature engineering Peninsule_Iberique\n",
      "   • saved Peninsule_Iberique_processed_daily.parquet\n",
      "→ Feature engineering Tenerife\n",
      "   • saved Peninsule_Iberique_processed_daily.parquet\n",
      "→ Feature engineering Tenerife\n",
      "   • saved Tenerife_processed_daily.parquet\n",
      "   • saved Tenerife_processed_daily.parquet\n"
     ]
    }
   ],
   "source": [
    "# pipeline feature engineering et sauvegarde processed\n",
    "list_of_features_keep = []\n",
    "for zone in zones:\n",
    "    print(f\"→ Feature engineering {zone}\")\n",
    "    df = pd.read_pickle(inter_dir/f\"{zone}_interim_daily.pkl\")\n",
    "\n",
    "    df = add_degree_days(df)\n",
    "    df = add_comfort_indices(df)\n",
    "    df = add_rolling_features(df)\n",
    "    df = add_cyclic_time_features(df)\n",
    "    df = add_interactions(df)\n",
    "    # on peut réutiliser fill_missing si des Na restent\n",
    "    df = df.ffill().bfill()\n",
    "\n",
    "    df = df[\"2016-05-01\":] if zone != \"nacional\" else df[\"2019-01-01\":]\n",
    "\n",
    "    # on peut garder les features de la liste ci-dessous\n",
    "    features_to_keep = [\"demand\", \"lag_1d\", \"lag_2d\", \"lag_3d\", \"lag_7d\", \"lag_30d\"]\n",
    "    features_to_keep += select_features(df, top_k= 13).index.tolist() \n",
    "\n",
    "    features_to_keep = list(set(features_to_keep))\n",
    "    list_of_features_keep.append((zone, features_to_keep))\n",
    "\n",
    "    # on ne garde que les features sélectionnées\n",
    "    df_e = df[features_to_keep][:\"2024-01-02\"]\n",
    "    df_s = df[features_to_keep][\"2024-01-02\":]\n",
    "\n",
    "    # Export final en Parquet\n",
    "    out_path_e = processed_dir/f\"{zone}_processed_daily.parquet\"\n",
    "    out_path_s = processed_dir/\"..\"/\"submission\"/f\"{zone}_processed_daily.parquet\"\n",
    "    \n",
    "    df_e.to_parquet(out_path_e, index=True)\n",
    "    df_s.to_parquet(out_path_s, index=True)\n",
    "    print(f\"   • saved {out_path_e.name}\")\n",
    "\n",
    "# sauvegarde des features sélectionnées\n",
    "features_df = pd.DataFrame(list_of_features_keep, columns=[\"zone\", \"features\"])\n",
    "features_df.to_csv(processed_dir/\"..\"/\"submission\"/\"features_selected_daily.csv\", index=False)"
   ]
  },
  {
   "cell_type": "markdown",
   "id": "cfdc9771",
   "metadata": {},
   "source": [
    "# Résumé final du notebook\n",
    "\n",
    "Ce notebook a permis de réaliser les étapes suivantes pour l'ingénierie des features sur les données de demande énergétique :\n",
    "\n",
    "- Chargement des données intermédiaires pour chaque zone.\n",
    "- Création de nouvelles variables météorologiques (degrés-jours, indices de confort).\n",
    "- Génération de variables glissantes (rolling means/sums) sur température, prix et radiation.\n",
    "- Encodages cycliques et calendaires (heures, jours, mois, saisons).\n",
    "- Création d'interactions et de transformations non linéaires.\n",
    "- Sélection automatique des variables les plus pertinentes via la mutual information.\n",
    "- Export des datasets finaux (features sélectionnées) au format Parquet pour chaque zone, en version horaire et journalière.\n",
    "- Sauvegarde des listes de variables retenues pour chaque zone.\n",
    "\n",
    "Les fichiers générés se trouvent dans les dossiers :\n",
    "- `data/processed/` : données enrichies prêtes pour la modélisation\n",
    "- `data/submission/` : données pour la soumission finale et listes de features sélectionnées\n",
    "\n",
    "Ces fichiers seront utilisés pour l'entraînement et l'évaluation de vos modèles de prévision."
   ]
  },
  {
   "cell_type": "markdown",
   "id": "52b9937b",
   "metadata": {},
   "source": []
  }
 ],
 "metadata": {
  "kernelspec": {
   "display_name": "base",
   "language": "python",
   "name": "python3"
  },
  "language_info": {
   "codemirror_mode": {
    "name": "ipython",
    "version": 3
   },
   "file_extension": ".py",
   "mimetype": "text/x-python",
   "name": "python",
   "nbconvert_exporter": "python",
   "pygments_lexer": "ipython3",
   "version": "3.12.7"
  }
 },
 "nbformat": 4,
 "nbformat_minor": 5
}
