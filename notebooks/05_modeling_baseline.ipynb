{
 "cells": [
  {
   "cell_type": "markdown",
   "id": "cb33c325",
   "metadata": {},
   "source": [
    "### 1. Imports"
   ]
  },
  {
   "cell_type": "code",
   "execution_count": 1,
   "id": "1b92b226",
   "metadata": {},
   "outputs": [],
   "source": [
    "from dotenv import load_dotenv\n",
    "import os\n",
    "\n",
    "load_dotenv()\n",
    "os.chdir(\"..\")"
   ]
  },
  {
   "cell_type": "code",
   "execution_count": 4,
   "id": "661dcfa0",
   "metadata": {},
   "outputs": [
    {
     "name": "stdout",
     "output_type": "stream",
     "text": [
      "Collecting lightgbm\n",
      "  Using cached lightgbm-4.6.0-py3-none-win_amd64.whl.metadata (17 kB)\n",
      "Requirement already satisfied: numpy>=1.17.0 in c:\\users\\nankouli\\anaconda3\\lib\\site-packages (from lightgbm) (1.26.4)\n",
      "Requirement already satisfied: scipy in c:\\users\\nankouli\\anaconda3\\lib\\site-packages (from lightgbm) (1.13.1)\n",
      "Using cached lightgbm-4.6.0-py3-none-win_amd64.whl (1.5 MB)\n",
      "Installing collected packages: lightgbm\n",
      "Successfully installed lightgbm-4.6.0\n",
      "Note: you may need to restart the kernel to use updated packages.\n"
     ]
    }
   ],
   "source": [
    "%pip install lightgbm"
   ]
  },
  {
   "cell_type": "code",
   "execution_count": null,
   "id": "54e568a3",
   "metadata": {},
   "outputs": [],
   "source": [
    "# Cellule 1: imports\n",
    "import pandas as pd\n",
    "import yaml\n",
    "from pathlib import Path\n",
    "from src.models.modeling  import train_models_for_zone\n",
    "\n"
   ]
  },
  {
   "cell_type": "code",
   "execution_count": 8,
   "id": "4b780eab",
   "metadata": {},
   "outputs": [],
   "source": [
    "def load_config(config_path: str = \"config.yaml\") -> dict:\n",
    "    with open(config_path, \"r\") as f:\n",
    "        cfg = yaml.safe_load(f)\n",
    "    return cfg\n",
    "\n",
    "# Cellule 2: configuration\n",
    "cfg = load_config(\"config.yaml\")\n",
    "processed_dir = Path(cfg[\"paths\"][\"data\"][\"processed\"])\n",
    "models_dir    = Path(\"models\")\n",
    "reports_dir   = Path(\"outputs/reports\")\n",
    "models_dir.mkdir(exist_ok=True, parents=True)\n",
    "reports_dir.mkdir(exist_ok=True, parents=True)\n",
    "zones = list(cfg[\"geo_zones\"].values())\n"
   ]
  },
  {
   "cell_type": "code",
   "execution_count": null,
   "metadata": {},
   "outputs": [
    {
     "name": "stdout",
     "output_type": "stream",
     "text": [
      "→ Processing zone: Peninsule_Iberique\n",
      "[LightGBM] [Info] Auto-choosing col-wise multi-threading, the overhead of testing was 0.000769 seconds.\n",
      "You can set `force_col_wise=true` to remove the overhead.\n",
      "[LightGBM] [Info] Total Bins 4594\n",
      "[LightGBM] [Info] Number of data points in the train set: 3653, number of used features: 20\n",
      "[LightGBM] [Info] Start training from score 4946181.019710\n",
      "[LightGBM] [Warning] No further splits with positive gain, best gain: -inf\n",
      "[LightGBM] [Warning] No further splits with positive gain, best gain: -inf\n",
      "[LightGBM] [Warning] No further splits with positive gain, best gain: -inf\n",
      "[LightGBM] [Warning] No further splits with positive gain, best gain: -inf\n",
      "[LightGBM] [Warning] No further splits with positive gain, best gain: -inf\n",
      "[LightGBM] [Warning] No further splits with positive gain, best gain: -inf\n",
      "[LightGBM] [Warning] No further splits with positive gain, best gain: -inf\n",
      "[LightGBM] [Warning] No further splits with positive gain, best gain: -inf\n",
      "[LightGBM] [Warning] No further splits with positive gain, best gain: -inf\n",
      "[LightGBM] [Warning] No further splits with positive gain, best gain: -inf\n",
      "[LightGBM] [Warning] No further splits with positive gain, best gain: -inf\n",
      "[LightGBM] [Warning] No further splits with positive gain, best gain: -inf\n",
      "[LightGBM] [Warning] No further splits with positive gain, best gain: -inf\n",
      "[LightGBM] [Warning] No further splits with positive gain, best gain: -inf\n",
      "[LightGBM] [Warning] No further splits with positive gain, best gain: -inf\n",
      "[LightGBM] [Warning] No further splits with positive gain, best gain: -inf\n",
      "[LightGBM] [Warning] No further splits with positive gain, best gain: -inf\n",
      "[LightGBM] [Warning] No further splits with positive gain, best gain: -inf\n",
      "[LightGBM] [Warning] No further splits with positive gain, best gain: -inf\n",
      "[LightGBM] [Warning] No further splits with positive gain, best gain: -inf\n",
      "[LightGBM] [Warning] No further splits with positive gain, best gain: -inf\n",
      "[LightGBM] [Warning] No further splits with positive gain, best gain: -inf\n",
      "[LightGBM] [Warning] No further splits with positive gain, best gain: -inf\n",
      "[LightGBM] [Warning] No further splits with positive gain, best gain: -inf\n",
      "[LightGBM] [Warning] No further splits with positive gain, best gain: -inf\n",
      "[LightGBM] [Warning] No further splits with positive gain, best gain: -inf\n",
      "[LightGBM] [Warning] No further splits with positive gain, best gain: -inf\n",
      "[LightGBM] [Warning] No further splits with positive gain, best gain: -inf\n",
      "[LightGBM] [Warning] No further splits with positive gain, best gain: -inf\n",
      "[LightGBM] [Warning] No further splits with positive gain, best gain: -inf\n",
      "[LightGBM] [Warning] No further splits with positive gain, best gain: -inf\n",
      "[LightGBM] [Warning] No further splits with positive gain, best gain: -inf\n",
      "[LightGBM] [Warning] No further splits with positive gain, best gain: -inf\n",
      "[LightGBM] [Warning] No further splits with positive gain, best gain: -inf\n",
      "[LightGBM] [Warning] No further splits with positive gain, best gain: -inf\n",
      "[LightGBM] [Warning] No further splits with positive gain, best gain: -inf\n",
      "[LightGBM] [Warning] No further splits with positive gain, best gain: -inf\n",
      "[LightGBM] [Warning] No further splits with positive gain, best gain: -inf\n",
      "[LightGBM] [Warning] No further splits with positive gain, best gain: -inf\n",
      "[LightGBM] [Warning] No further splits with positive gain, best gain: -inf\n",
      "[LightGBM] [Warning] No further splits with positive gain, best gain: -inf\n",
      "[LightGBM] [Warning] No further splits with positive gain, best gain: -inf\n",
      "[LightGBM] [Warning] No further splits with positive gain, best gain: -inf\n",
      "[LightGBM] [Warning] No further splits with positive gain, best gain: -inf\n",
      "[LightGBM] [Warning] No further splits with positive gain, best gain: -inf\n",
      "[LightGBM] [Warning] No further splits with positive gain, best gain: -inf\n",
      "[LightGBM] [Warning] No further splits with positive gain, best gain: -inf\n",
      "[LightGBM] [Warning] No further splits with positive gain, best gain: -inf\n",
      "[LightGBM] [Warning] No further splits with positive gain, best gain: -inf\n",
      "[LightGBM] [Warning] No further splits with positive gain, best gain: -inf\n"
     ]
    },
    {
     "name": "stderr",
     "output_type": "stream",
     "text": [
      "c:\\Users\\NANKOULI\\anaconda3\\Lib\\site-packages\\joblib\\externals\\loky\\backend\\context.py:136: UserWarning: Could not find the number of physical cores for the following reason:\n",
      "found 0 physical cores < 1\n",
      "Returning the number of logical cores instead. You can silence this warning by setting LOKY_MAX_CPU_COUNT to the number of cores you want to use.\n",
      "  warnings.warn(\n",
      "  File \"c:\\Users\\NANKOULI\\anaconda3\\Lib\\site-packages\\joblib\\externals\\loky\\backend\\context.py\", line 282, in _count_physical_cores\n",
      "    raise ValueError(f\"found {cpu_count_physical} physical cores < 1\")\n"
     ]
    },
    {
     "ename": "TypeError",
     "evalue": "train_baseline() takes 5 positional arguments but 6 were given",
     "output_type": "error",
     "traceback": [
      "\u001b[1;31m---------------------------------------------------------------------------\u001b[0m",
      "\u001b[1;31mTypeError\u001b[0m                                 Traceback (most recent call last)",
      "Cell \u001b[1;32mIn[10], line 13\u001b[0m\n\u001b[0;32m     11\u001b[0m \u001b[38;5;66;03m# 2) (Facultatif) LGBM optimisé\u001b[39;00m\n\u001b[0;32m     12\u001b[0m best_lgbm \u001b[38;5;241m=\u001b[39m tune_lightgbm(df[features], df[\u001b[38;5;124m\"\u001b[39m\u001b[38;5;124mdemand\u001b[39m\u001b[38;5;124m\"\u001b[39m])\n\u001b[1;32m---> 13\u001b[0m metrics[\u001b[38;5;124m\"\u001b[39m\u001b[38;5;124mLightGBM\u001b[39m\u001b[38;5;124m\"\u001b[39m] \u001b[38;5;241m=\u001b[39m train_baseline(df, features, \u001b[38;5;124m\"\u001b[39m\u001b[38;5;124mdemand\u001b[39m\u001b[38;5;124m\"\u001b[39m, zone,\n\u001b[0;32m     14\u001b[0m                                      processed_dir, models_dir)\u001b[38;5;241m.\u001b[39mpop(\u001b[38;5;124m\"\u001b[39m\u001b[38;5;124mRandomForest\u001b[39m\u001b[38;5;124m\"\u001b[39m)  \u001b[38;5;66;03m# exemple\u001b[39;00m\n\u001b[0;32m     15\u001b[0m all_metrics\u001b[38;5;241m.\u001b[39mappend({\u001b[38;5;124m\"\u001b[39m\u001b[38;5;124mzone\u001b[39m\u001b[38;5;124m\"\u001b[39m: zone, \u001b[38;5;241m*\u001b[39m\u001b[38;5;241m*\u001b[39m{m:metrics[m] \u001b[38;5;28;01mfor\u001b[39;00m m \u001b[38;5;129;01min\u001b[39;00m metrics}})\n",
      "\u001b[1;31mTypeError\u001b[0m: train_baseline() takes 5 positional arguments but 6 were given"
     ]
    }
   ],
   "source": [
    "# Cellule 3 – Boucle d’entraînement\n",
    "all_metrics = []\n",
    "for zone in zones:\n",
    "    print(f\"→ Training {zone}\")\n",
    "    res = train_models_for_zone(zone, processed_dir, models_dir)\n",
    "    # aplatissement des métriques\n",
    "    flat = {\"zone\": zone}\n",
    "    for h, mets in res.items():\n",
    "        for m, vals in mets.items():\n",
    "            flat[f\"{h}_{m}_MAE\"]  = vals[\"MAE\"]\n",
    "            flat[f\"{h}_{m}_RMSE\"] = vals[\"RMSE\"]\n",
    "            flat[f\"{h}_{m}_MAPE\"]= vals[\"MAPE\"]\n",
    "    all_metrics.append(flat)\n",
    "\n",
    "# Cellule 4 – Sauvegarde des métriques\n",
    "pd.DataFrame(all_metrics).to_csv(\n",
    "    reports_dir/\"all_zones_baseline_metrics.csv\", index=False\n",
    ")"
   ]
  },
  {
   "cell_type": "code",
   "execution_count": null,
   "metadata": {},
   "outputs": [],
   "source": [
    "# Cellule 4: sauvegarde des métriques\n",
    "pd.DataFrame(all_metrics).to_csv(reports_dir/\"baseline_metrics.csv\", index=False)\n"
   ]
  },
  {
   "cell_type": "code",
   "execution_count": null,
   "id": "a9c338be",
   "metadata": {},
   "outputs": [
    {
     "name": "stdout",
     "output_type": "stream",
     "text": [
      "Training LinearRegression...\n",
      "  -> MAE=638903.9, RMSE=1112.8, MAPE=50.2%\n",
      "Training Ridge...\n",
      "  -> MAE=638215.4, RMSE=1112.5, MAPE=50.2%\n",
      "Training RandomForest...\n",
      "  -> MAE=1101546.2, RMSE=1356.5, MAPE=53.7%\n"
     ]
    }
   ],
   "source": [
    "# Cellule 5: visualisation rapide\n",
    "import matplotlib.pyplot as plt\n",
    "\n",
    "for zone in zones:\n",
    "    df = pd.read_parquet(processed_dir/f\"{zone}_processed_daily.parquet\")\n",
    "    test = df[\"demand\"].iloc[int(len(df)*0.8):]\n",
    "    model_rf = joblib.load(models_dir/f\"{zone}_rf.pkl\")\n",
    "    pred = model_rf.predict(df.drop(columns=\"demand\").iloc[int(len(df)*0.8):])\n",
    "    plt.figure(figsize=(10,3))\n",
    "    plt.plot(test.index, test, label=\"Réel\")\n",
    "    plt.plot(test.index, pred, label=\"RF prédit\")\n",
    "    plt.title(f\"{zone} — RandomForest baseline\")\n",
    "    plt.legend()\n",
    "    plt.show()\n"
   ]
  },
  {
   "cell_type": "code",
   "execution_count": null,
   "id": "1aec8dc8",
   "metadata": {},
   "outputs": [],
   "source": []
  }
 ],
 "metadata": {
  "kernelspec": {
   "display_name": "base",
   "language": "python",
   "name": "python3"
  },
  "language_info": {
   "codemirror_mode": {
    "name": "ipython",
    "version": 3
   },
   "file_extension": ".py",
   "mimetype": "text/x-python",
   "name": "python",
   "nbconvert_exporter": "python",
   "pygments_lexer": "ipython3",
   "version": "3.12.7"
  }
 },
 "nbformat": 4,
 "nbformat_minor": 5
}
